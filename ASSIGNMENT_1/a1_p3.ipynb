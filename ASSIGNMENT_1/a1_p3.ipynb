{
  "nbformat": 4,
  "nbformat_minor": 0,
  "metadata": {
    "colab": {
      "provenance": [],
      "authorship_tag": "ABX9TyNkzo7A0FeHc7FMe2d40A+5",
      "include_colab_link": true
    },
    "kernelspec": {
      "name": "python3",
      "display_name": "Python 3"
    },
    "language_info": {
      "name": "python"
    }
  },
  "cells": [
    {
      "cell_type": "markdown",
      "metadata": {
        "id": "view-in-github",
        "colab_type": "text"
      },
      "source": [
        "<a href=\"https://colab.research.google.com/github/Rohit2303A510J0/23CSBTB28/blob/main/ASSIGNMENT_1/a1_p3.ipynb\" target=\"_parent\"><img src=\"https://colab.research.google.com/assets/colab-badge.svg\" alt=\"Open In Colab\"/></a>"
      ]
    },
    {
      "cell_type": "markdown",
      "source": [
        "Access Data from Various Data Sources using built in function of Numpy, Pandas"
      ],
      "metadata": {
        "id": "5XtlRoWHXUiH"
      }
    },
    {
      "cell_type": "code",
      "execution_count": null,
      "metadata": {
        "id": "PYvgdSiySuH8"
      },
      "outputs": [],
      "source": [
        "import pandas as pd"
      ]
    },
    {
      "cell_type": "code",
      "source": [
        "# Reading excel file\n",
        "df = pd.read_excel(\"https://docs.google.com/spreadsheets/d/1V22RRsCH_C9nAdMDkSaUs0xc7p2_pBpjblDj8UnWYog/export?format=xlsx\")\n",
        "print(df)"
      ],
      "metadata": {
        "colab": {
          "base_uri": "https://localhost:8080/"
        },
        "id": "8U_AbhfmXix7",
        "outputId": "a073a69d-31dd-473f-865d-df1fbbf80844"
      },
      "execution_count": null,
      "outputs": [
        {
          "output_type": "stream",
          "name": "stdout",
          "text": [
            "  PEOPLE  AGE  HEIGHT  WEIGHT\n",
            "0  KIRAN   25     145      45\n",
            "1   ARUN   30     151      55\n",
            "2  VIJAY   35     165      65\n",
            "3  VARUN   40     173      75\n"
          ]
        }
      ]
    },
    {
      "cell_type": "code",
      "source": [
        "# Reading csv file\n",
        "df = pd.read_csv(\"https://drive.google.com/uc?id=16FX71g1uBCSmh9hpNc7ddmsACCcIy2Pz\")\n",
        "print(df)"
      ],
      "metadata": {
        "colab": {
          "base_uri": "https://localhost:8080/"
        },
        "id": "EOUhkavFa16-",
        "outputId": "9de92231-f5d2-4fdf-abef-def700ca47db"
      },
      "execution_count": null,
      "outputs": [
        {
          "output_type": "stream",
          "name": "stdout",
          "text": [
            "  PEOPLE  AGE  HEIGHT  WEIGHT\n",
            "0  KIRAN   25     145      45\n",
            "1   ARUN   30     151      55\n",
            "2  VIJAY   35     165      65\n",
            "3  VARUN   40     173      75\n"
          ]
        }
      ]
    },
    {
      "cell_type": "code",
      "source": [
        "# Reading tsv file\n",
        "df = pd.read_csv(\"https://drive.google.com/uc?id=1XnIc7aK7ROwJFzY_9qGtZR27RmpLsr5i\", delimiter='\\t')\n",
        "print(df)"
      ],
      "metadata": {
        "colab": {
          "base_uri": "https://localhost:8080/"
        },
        "id": "GeeGorsgbhIe",
        "outputId": "12879200-a813-4c5c-c577-f4d25e140ddf"
      },
      "execution_count": null,
      "outputs": [
        {
          "output_type": "stream",
          "name": "stdout",
          "text": [
            "  PEOPLE  AGE  HEIGHT  WEIGHT\n",
            "0  KIRAN   25     145      45\n",
            "1   ARUN   30     151      55\n",
            "2  VIJAY   35     165      65\n",
            "3  VARUN   40     173      75\n"
          ]
        }
      ]
    }
  ]
}