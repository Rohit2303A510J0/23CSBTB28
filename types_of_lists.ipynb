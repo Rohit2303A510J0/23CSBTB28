{
  "nbformat": 4,
  "nbformat_minor": 0,
  "metadata": {
    "colab": {
      "provenance": [],
      "authorship_tag": "ABX9TyNQJ/f720Orrhx9JW0HdVH8",
      "include_colab_link": true
    },
    "kernelspec": {
      "name": "python3",
      "display_name": "Python 3"
    },
    "language_info": {
      "name": "python"
    }
  },
  "cells": [
    {
      "cell_type": "markdown",
      "metadata": {
        "id": "view-in-github",
        "colab_type": "text"
      },
      "source": [
        "<a href=\"https://colab.research.google.com/github/Rohit2303A510J0/23CSBTB28/blob/main/types_of_lists.ipynb\" target=\"_parent\"><img src=\"https://colab.research.google.com/assets/colab-badge.svg\" alt=\"Open In Colab\"/></a>"
      ]
    },
    {
      "cell_type": "markdown",
      "source": [
        "## Part 1 - Implement Basic Data Structures using Numpy, Pandas"
      ],
      "metadata": {
        "id": "1PMmZCHiiwtF"
      }
    },
    {
      "cell_type": "code",
      "execution_count": 26,
      "metadata": {
        "colab": {
          "base_uri": "https://localhost:8080/"
        },
        "id": "85amYHDOhiSu",
        "outputId": "c4e8d96f-ca14-4b0f-957e-84b5590762b9"
      },
      "outputs": [
        {
          "output_type": "stream",
          "name": "stdout",
          "text": [
            "[1, 'Hello', [1, 2], 4.5, 5, {'name': 'Rohit', 'age': 18}]\n",
            "[1, 2]\n",
            "<class 'list'>\n"
          ]
        }
      ],
      "source": [
        "# Types of list\n",
        "list_example = [1, \"Hello\", [1, 2], 4.5, 5, {\"name\": \"Rohit\", \"age\": 18}]\n",
        "print(list_example)\n",
        "print(list_example[2])\n",
        "print(type(list_example))"
      ]
    },
    {
      "cell_type": "code",
      "source": [
        "dict_example = {'name': 'Rohit', 'occupation': 'student', 'age': 18}\n",
        "print(dict_example)\n",
        "print(type(dict_example))"
      ],
      "metadata": {
        "colab": {
          "base_uri": "https://localhost:8080/"
        },
        "id": "wU2EyVotp5Rm",
        "outputId": "acbf3ec5-9695-422d-ae63-5d8e3c97b965"
      },
      "execution_count": 27,
      "outputs": [
        {
          "output_type": "stream",
          "name": "stdout",
          "text": [
            "{'name': 'Rohit', 'occupation': 'student', 'age': 18}\n",
            "<class 'dict'>\n"
          ]
        }
      ]
    },
    {
      "cell_type": "code",
      "source": [
        "set_example = {1, 2, 3, 4, 5}\n",
        "print(set_example)\n",
        "print(type(set_example))"
      ],
      "metadata": {
        "colab": {
          "base_uri": "https://localhost:8080/"
        },
        "id": "kR-f4PBBp3ip",
        "outputId": "c9eedfb1-2770-49e0-ee2b-f7ce9810d2a9"
      },
      "execution_count": 28,
      "outputs": [
        {
          "output_type": "stream",
          "name": "stdout",
          "text": [
            "{1, 2, 3, 4, 5}\n",
            "<class 'set'>\n"
          ]
        }
      ]
    },
    {
      "cell_type": "code",
      "source": [
        "tuple_example = (1, 2, 3, 4, 5)\n",
        "print(tuple_example)\n",
        "print(type(tuple_example))"
      ],
      "metadata": {
        "colab": {
          "base_uri": "https://localhost:8080/"
        },
        "id": "0d-6Ofcpp1W3",
        "outputId": "084415f3-7e84-4a48-f535-3f8d2e1e2c2e"
      },
      "execution_count": 29,
      "outputs": [
        {
          "output_type": "stream",
          "name": "stdout",
          "text": [
            "(1, 2, 3, 4, 5)\n",
            "<class 'tuple'>\n"
          ]
        }
      ]
    },
    {
      "cell_type": "code",
      "source": [
        "string_example = \"Hello World!\"\n",
        "print(string_example)\n",
        "print(type(string_example))"
      ],
      "metadata": {
        "colab": {
          "base_uri": "https://localhost:8080/"
        },
        "id": "b-Nno4yQpwsD",
        "outputId": "9bacaeaf-55af-4ddf-b237-1888267bcfd8"
      },
      "execution_count": 30,
      "outputs": [
        {
          "output_type": "stream",
          "name": "stdout",
          "text": [
            "Hello World!\n",
            "<class 'str'>\n"
          ]
        }
      ]
    }
  ]
}