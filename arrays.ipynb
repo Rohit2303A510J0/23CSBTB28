{
  "nbformat": 4,
  "nbformat_minor": 0,
  "metadata": {
    "colab": {
      "provenance": [],
      "authorship_tag": "ABX9TyN4fBZP2kH+9MEqfH1fNp9t",
      "include_colab_link": true
    },
    "kernelspec": {
      "name": "python3",
      "display_name": "Python 3"
    },
    "language_info": {
      "name": "python"
    }
  },
  "cells": [
    {
      "cell_type": "markdown",
      "metadata": {
        "id": "view-in-github",
        "colab_type": "text"
      },
      "source": [
        "<a href=\"https://colab.research.google.com/github/Rohit2303A510J0/23CSBTB28/blob/main/arrays.ipynb\" target=\"_parent\"><img src=\"https://colab.research.google.com/assets/colab-badge.svg\" alt=\"Open In Colab\"/></a>"
      ]
    },
    {
      "cell_type": "markdown",
      "source": [
        "Creation of Array and Array operation"
      ],
      "metadata": {
        "id": "G5wAUNQOvQYp"
      }
    },
    {
      "cell_type": "code",
      "execution_count": 1,
      "metadata": {
        "id": "OIktvQk5vOkP"
      },
      "outputs": [],
      "source": [
        "import numpy as np"
      ]
    },
    {
      "cell_type": "code",
      "source": [
        "# Creating an array\n",
        "arr = np.array([50, 20, 40, 30, 10])\n",
        "\n",
        "print(arr)\n",
        "print(arr[0])\n",
        "print(arr[:2])\n",
        "print(type(arr))"
      ],
      "metadata": {
        "colab": {
          "base_uri": "https://localhost:8080/"
        },
        "id": "JE1FQ_SNvaxO",
        "outputId": "e7b5b161-ac8e-46d1-ba82-4b1b85409410"
      },
      "execution_count": 23,
      "outputs": [
        {
          "output_type": "stream",
          "name": "stdout",
          "text": [
            "[50 20 40 30 10]\n",
            "50\n",
            "[50 20]\n",
            "<class 'numpy.ndarray'>\n"
          ]
        }
      ]
    },
    {
      "cell_type": "code",
      "source": [
        "print(arr.ndim) # To get no. of dimensions of an array\n",
        "print(arr.shape) # Gets shape of array\n",
        "print(arr.size) # Gets total number of elements\n",
        "print(arr.dtype) # Gets the data type of elements stored in array\n",
        "print(np.sort(arr)) # Sorts the array\n",
        "result = np.concatenate((arr, np.array([60, 70, 80])))\n",
        "print(result.reshape(4, 2)) # Reshaping the array"
      ],
      "metadata": {
        "colab": {
          "base_uri": "https://localhost:8080/"
        },
        "id": "POaTHZQAv_F8",
        "outputId": "7a22eefb-b36a-46d3-e412-412d20ca4137"
      },
      "execution_count": 36,
      "outputs": [
        {
          "output_type": "stream",
          "name": "stdout",
          "text": [
            "1\n",
            "(5,)\n",
            "5\n",
            "int64\n",
            "[10 20 30 40 50]\n",
            "[[50 20]\n",
            " [40 30]\n",
            " [10 60]\n",
            " [70 80]]\n"
          ]
        }
      ]
    },
    {
      "cell_type": "code",
      "source": [
        "print(result.shape)\n",
        "# Converting into row or column vector\n",
        "dim = result[:, np.newaxis]\n",
        "print(dim)\n",
        "\n",
        "# Expanding dimensions at an index\n",
        "b = np.expand_dims(result, axis=0)\n",
        "print(b)"
      ],
      "metadata": {
        "colab": {
          "base_uri": "https://localhost:8080/"
        },
        "id": "Bj5rgzaIy1-r",
        "outputId": "2677f665-9564-4d9b-8a85-75ba210cc159"
      },
      "execution_count": 32,
      "outputs": [
        {
          "output_type": "stream",
          "name": "stdout",
          "text": [
            "(8,)\n",
            "[[50]\n",
            " [20]\n",
            " [40]\n",
            " [30]\n",
            " [10]\n",
            " [60]\n",
            " [70]\n",
            " [80]]\n",
            "[[50 20 40 30 10 60 70 80]]\n"
          ]
        }
      ]
    },
    {
      "cell_type": "code",
      "source": [
        "# Slicing and indexing\n",
        "data = np.array([[1, 2, 3], [2, 3, 4], [4, 3, 2]])\n",
        "print(data[0:2])\n",
        "print(data[2, 0:1])"
      ],
      "metadata": {
        "colab": {
          "base_uri": "https://localhost:8080/"
        },
        "id": "YrN_lSdm0iCn",
        "outputId": "9604532c-b358-41d8-f6a1-8f58e950ad22"
      },
      "execution_count": 41,
      "outputs": [
        {
          "output_type": "stream",
          "name": "stdout",
          "text": [
            "[[1 2 3]\n",
            " [2 3 4]]\n",
            "[4]\n"
          ]
        }
      ]
    },
    {
      "cell_type": "code",
      "source": [
        "# Basic operations\n",
        "a = np.array([1, 2, 3])\n",
        "b = np.array([2, 3, 4])\n",
        "print(np.add(a, b))\n",
        "print(np.subtract(a, b))\n",
        "print(np.multiply(a, b))\n",
        "print(np.divide(a, b))\n",
        "print(a.sum())\n",
        "print(a * 2) # Broadcasting"
      ],
      "metadata": {
        "colab": {
          "base_uri": "https://localhost:8080/"
        },
        "id": "jvQdAvnr1ZO9",
        "outputId": "6cf62f02-a54f-462d-d9a8-5fdf955b697d"
      },
      "execution_count": 43,
      "outputs": [
        {
          "output_type": "stream",
          "name": "stdout",
          "text": [
            "[3 5 7]\n",
            "[-1 -1 -1]\n",
            "[ 2  6 12]\n",
            "[0.5        0.66666667 0.75      ]\n",
            "6\n",
            "[2 4 6]\n"
          ]
        }
      ]
    }
  ]
}