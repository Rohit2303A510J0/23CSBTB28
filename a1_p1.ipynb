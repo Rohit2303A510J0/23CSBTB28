{
  "nbformat": 4,
  "nbformat_minor": 0,
  "metadata": {
    "colab": {
      "provenance": [],
      "authorship_tag": "ABX9TyP4infh3DeaIHegimZ7LEAJ",
      "include_colab_link": true
    },
    "kernelspec": {
      "name": "python3",
      "display_name": "Python 3"
    },
    "language_info": {
      "name": "python"
    }
  },
  "cells": [
    {
      "cell_type": "markdown",
      "metadata": {
        "id": "view-in-github",
        "colab_type": "text"
      },
      "source": [
        "<a href=\"https://colab.research.google.com/github/Rohit2303A510J0/23CSBTB28/blob/main/a1_p1.ipynb\" target=\"_parent\"><img src=\"https://colab.research.google.com/assets/colab-badge.svg\" alt=\"Open In Colab\"/></a>"
      ]
    },
    {
      "cell_type": "markdown",
      "source": [
        "## Part 1 - Implement Basic Data Structures using Numpy, Pandas"
      ],
      "metadata": {
        "id": "1PMmZCHiiwtF"
      }
    },
    {
      "cell_type": "code",
      "source": [
        "import numpy as np"
      ],
      "metadata": {
        "id": "Y22pOGthgLAb"
      },
      "execution_count": 2,
      "outputs": []
    },
    {
      "cell_type": "code",
      "execution_count": null,
      "metadata": {
        "colab": {
          "base_uri": "https://localhost:8080/"
        },
        "id": "85amYHDOhiSu",
        "outputId": "c4e8d96f-ca14-4b0f-957e-84b5590762b9"
      },
      "outputs": [
        {
          "output_type": "stream",
          "name": "stdout",
          "text": [
            "[1, 'Hello', [1, 2], 4.5, 5, {'name': 'Rohit', 'age': 18}]\n",
            "[1, 2]\n",
            "<class 'list'>\n"
          ]
        }
      ],
      "source": [
        "# Types of list\n",
        "list_example = [1, \"Hello\", [1, 2], 4.5, 5, {\"name\": \"Rohit\", \"age\": 18}]\n",
        "print(list_example)\n",
        "print(list_example[2])\n",
        "print(type(list_example))"
      ]
    },
    {
      "cell_type": "code",
      "source": [
        "dict_example = {'name': 'Rohit', 'occupation': 'student', 'age': 18}\n",
        "print(dict_example)\n",
        "print(type(dict_example))"
      ],
      "metadata": {
        "colab": {
          "base_uri": "https://localhost:8080/"
        },
        "id": "wU2EyVotp5Rm",
        "outputId": "acbf3ec5-9695-422d-ae63-5d8e3c97b965"
      },
      "execution_count": null,
      "outputs": [
        {
          "output_type": "stream",
          "name": "stdout",
          "text": [
            "{'name': 'Rohit', 'occupation': 'student', 'age': 18}\n",
            "<class 'dict'>\n"
          ]
        }
      ]
    },
    {
      "cell_type": "code",
      "source": [
        "set_example = {1, 2, 3, 4, 5}\n",
        "print(set_example)\n",
        "print(type(set_example))"
      ],
      "metadata": {
        "colab": {
          "base_uri": "https://localhost:8080/"
        },
        "id": "kR-f4PBBp3ip",
        "outputId": "c9eedfb1-2770-49e0-ee2b-f7ce9810d2a9"
      },
      "execution_count": null,
      "outputs": [
        {
          "output_type": "stream",
          "name": "stdout",
          "text": [
            "{1, 2, 3, 4, 5}\n",
            "<class 'set'>\n"
          ]
        }
      ]
    },
    {
      "cell_type": "code",
      "source": [
        "tuple_example = (1, 2, 3, 4, 5)\n",
        "print(tuple_example)\n",
        "print(type(tuple_example))"
      ],
      "metadata": {
        "colab": {
          "base_uri": "https://localhost:8080/"
        },
        "id": "0d-6Ofcpp1W3",
        "outputId": "084415f3-7e84-4a48-f535-3f8d2e1e2c2e"
      },
      "execution_count": null,
      "outputs": [
        {
          "output_type": "stream",
          "name": "stdout",
          "text": [
            "(1, 2, 3, 4, 5)\n",
            "<class 'tuple'>\n"
          ]
        }
      ]
    },
    {
      "cell_type": "code",
      "source": [
        "string_example = \"Hello World!\"\n",
        "print(string_example)\n",
        "print(type(string_example))"
      ],
      "metadata": {
        "colab": {
          "base_uri": "https://localhost:8080/"
        },
        "id": "b-Nno4yQpwsD",
        "outputId": "9bacaeaf-55af-4ddf-b237-1888267bcfd8"
      },
      "execution_count": null,
      "outputs": [
        {
          "output_type": "stream",
          "name": "stdout",
          "text": [
            "Hello World!\n",
            "<class 'str'>\n"
          ]
        }
      ]
    },
    {
      "cell_type": "code",
      "source": [
        "# Creating an array\n",
        "arr = np.array([50, 20, 40, 30, 10])\n",
        "\n",
        "print(arr)\n",
        "print(arr[0])\n",
        "print(arr[:2])\n",
        "print(type(arr))"
      ],
      "metadata": {
        "colab": {
          "base_uri": "https://localhost:8080/"
        },
        "id": "eOHd8F8BgF3l",
        "outputId": "4250684c-06bb-4c3a-b059-6a81e3c7b44d"
      },
      "execution_count": 4,
      "outputs": [
        {
          "output_type": "stream",
          "name": "stdout",
          "text": [
            "[50 20 40 30 10]\n",
            "50\n",
            "[50 20]\n",
            "<class 'numpy.ndarray'>\n"
          ]
        }
      ]
    },
    {
      "cell_type": "code",
      "source": [
        "print(arr.ndim) # To get no. of dimensions of an array\n",
        "print(arr.shape) # Gets shape of array\n",
        "print(arr.size) # Gets total number of elements\n",
        "print(arr.dtype) # Gets the data type of elements stored in array\n",
        "print(np.sort(arr)) # Sorts the array\n",
        "result = np.concatenate((arr, np.array([60, 70, 80])))\n",
        "print(result.reshape(4, 2)) # Reshaping the array"
      ],
      "metadata": {
        "colab": {
          "base_uri": "https://localhost:8080/"
        },
        "id": "rOUsHl5Ghhvf",
        "outputId": "7c761da3-e276-42b0-ba66-ed44158ef1b3"
      },
      "execution_count": 5,
      "outputs": [
        {
          "output_type": "stream",
          "name": "stdout",
          "text": [
            "1\n",
            "(5,)\n",
            "5\n",
            "int64\n",
            "[10 20 30 40 50]\n",
            "[[50 20]\n",
            " [40 30]\n",
            " [10 60]\n",
            " [70 80]]\n"
          ]
        }
      ]
    },
    {
      "cell_type": "code",
      "source": [
        "print(result.shape)\n",
        "# Converting into row or column vector\n",
        "dim = result[:, np.newaxis]\n",
        "print(dim)\n",
        "\n",
        "# Expanding dimensions at an index\n",
        "b = np.expand_dims(result, axis=0)\n",
        "print(b)"
      ],
      "metadata": {
        "colab": {
          "base_uri": "https://localhost:8080/"
        },
        "id": "m9uCpPidhkqO",
        "outputId": "93f11c3a-eb21-4bb9-c9a6-eda8e8601e3f"
      },
      "execution_count": 6,
      "outputs": [
        {
          "output_type": "stream",
          "name": "stdout",
          "text": [
            "(8,)\n",
            "[[50]\n",
            " [20]\n",
            " [40]\n",
            " [30]\n",
            " [10]\n",
            " [60]\n",
            " [70]\n",
            " [80]]\n",
            "[[50 20 40 30 10 60 70 80]]\n"
          ]
        }
      ]
    },
    {
      "cell_type": "code",
      "source": [
        "# Slicing and indexing\n",
        "data = np.array([[1, 2, 3], [2, 3, 4], [4, 3, 2]])\n",
        "print(data[0:2])\n",
        "print(data[2, 0:1])"
      ],
      "metadata": {
        "colab": {
          "base_uri": "https://localhost:8080/"
        },
        "id": "cBysVnc-hnm4",
        "outputId": "6614554b-5158-428a-b574-dcaa4c467433"
      },
      "execution_count": 7,
      "outputs": [
        {
          "output_type": "stream",
          "name": "stdout",
          "text": [
            "[[1 2 3]\n",
            " [2 3 4]]\n",
            "[4]\n"
          ]
        }
      ]
    },
    {
      "cell_type": "code",
      "source": [
        "# Basic operations\n",
        "a = np.array([1, 2, 3])\n",
        "b = np.array([2, 3, 4])\n",
        "print(np.add(a, b))\n",
        "print(np.subtract(a, b))\n",
        "print(np.multiply(a, b))\n",
        "print(np.divide(a, b))\n",
        "print(a.sum())\n",
        "print(a * 2) # Broadcasting"
      ],
      "metadata": {
        "id": "Z5lqFM7NiYI4"
      },
      "execution_count": null,
      "outputs": []
    },
    {
      "cell_type": "markdown",
      "source": [
        "implement logaritmic and exponential functions"
      ],
      "metadata": {
        "id": "Nra9312fifwg"
      }
    },
    {
      "cell_type": "code",
      "source": [
        "print(np.sin(np.pi / 2))\n",
        "print(np.log(np.e))\n",
        "print(np.log2(2))\n",
        "print(np.exp(0))"
      ],
      "metadata": {
        "id": "e6ABqt-RimUA"
      },
      "execution_count": null,
      "outputs": []
    }
  ]
}